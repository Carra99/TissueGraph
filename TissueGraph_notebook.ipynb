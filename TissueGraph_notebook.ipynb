{
 "cells": [
  {
   "cell_type": "markdown",
   "id": "7801a880",
   "metadata": {},
   "source": [
    "# 🧠 TissueGraph: Spatial Graphs for Tissue Microenvironments\n",
    "This notebook demonstrates the three core features of **TissueGraph**, a tool for analyzing spatial cell organization from multiplexed imaging data (e.g., MIBI, CODEX).\n",
    "\n",
    "**Features covered:**\n",
    "1. Super-node graph construction based on DBSCAN clustering\n",
    "2. Cell-level participation graphs\n",
    "3. Barycentric plots relative to spatial neighborhoods"
   ]
  },
  {
   "cell_type": "code",
   "execution_count": 1,
   "id": "586da8a8",
   "metadata": {},
   "outputs": [],
   "source": [
    "# 📦 Imports\n",
    "import numpy as np\n",
    "import pandas as pd\n",
    "import networkx as nx\n",
    "import matplotlib.pyplot as plt\n",
    "from sklearn.cluster import DBSCAN\n",
    "from scipy.spatial import distance_matrix\n",
    "from skimage.io import imread\n",
    "from skimage.measure import regionprops\n",
    "from matplotlib import tri as mtri"
   ]
  },
  {
   "cell_type": "markdown",
   "id": "74ef1569",
   "metadata": {},
   "source": [
    "## 🔹 Step 1: Load Data\n",
    "You can load either a CSV file with cell coordinates or a segmentation mask."
   ]
  },
  {
   "cell_type": "code",
   "execution_count": 3,
   "id": "0703c841",
   "metadata": {},
   "outputs": [],
   "source": [
    "# Option 1: From segmentation mask\n",
    "def load_centroids_from_mask(mask_path):\n",
    "    mask = imread(mask_path)\n",
    "    props = regionprops(mask)\n",
    "    return pd.DataFrame([{\n",
    "        'Cell_ID': p.label,\n",
    "        'X': p.centroid[1],\n",
    "        'Y': p.centroid[0]\n",
    "    } for p in props])\n",
    "\n",
    "df = load_centroids_from_mask(\"path_to_segmentation_mask\") #substitute with path to your segmentation masks\n",
    "\n",
    "# Option 2: From CSV\n",
    "def load_centroids_from_csv(csv_path):\n",
    "    return pd.read_csv(csv_path)\n",
    "\n",
    "df = load_centroids_from_csv(\"example_cells.csv\") #substitute with path to your own csv file if available"
   ]
  },
  {
   "cell_type": "markdown",
   "id": "00abccab",
   "metadata": {},
   "source": [
    "## 🔹 Step 2: Super-node Graph from Cell Neighborhoods\n",
    "\n",
    "_You can modify the `eps` and `min_samples` parameters in DBSCAN to adjust how neighborhoods are detected._"
   ]
  },
  {
   "cell_type": "code",
   "execution_count": null,
   "id": "186be1b3",
   "metadata": {},
   "outputs": [],
   "source": [
    "# 📤 Save and show Super-node Graph\n",
    "def build_supernode_graph(df, eps=30, min_samples=5):\n",
    "    coords = df[['X','Y']].values\n",
    "    clustering = DBSCAN(eps=eps, min_samples=min_samples).fit(coords)\n",
    "    df['neighborhood'] = clustering.labels_\n",
    "    centers = df[df.neighborhood >= 0].groupby('neighborhood')[['X','Y']].mean()\n",
    "    G = nx.Graph()\n",
    "    for nid, row in centers.iterrows():\n",
    "        G.add_node(nid, pos=(row.X, row.Y))\n",
    "    dm = distance_matrix(centers.values, centers.values)\n",
    "    for i, a in enumerate(centers.index):\n",
    "        for j, b in enumerate(centers.index):\n",
    "            if i < j and dm[i, j] < eps * 2:\n",
    "                G.add_edge(a, b)\n",
    "    return G, df\n",
    "\n",
    "G, df = build_supernode_graph(df)\n",
    "\n",
    "# Plot Super-node Graph\n",
    "plt.figure(figsize=(7, 6))\n",
    "pos = nx.get_node_attributes(G, 'pos')\n",
    "nx.draw(G, pos, with_labels=True, node_color='skyblue', node_size=500)\n",
    "plt.title(\"Super-node Graph from DBSCAN Clusters\")\n",
    "plt.axis('equal')\n",
    "plt.savefig(\"supernode_graph.png\")\n",
    "plt.show()\n"
   ]
  },
  {
   "cell_type": "markdown",
   "id": "9eb5212a",
   "metadata": {},
   "source": [
    "## 🔹 Step 3: Participation Graph (Cell-Level)\n",
    "\n",
    "_You can adjust the `radius` parameter to change how many neighboring cells are considered when computing participation._"
   ]
  },
  {
   "cell_type": "code",
   "execution_count": null,
   "id": "cfbf3b15",
   "metadata": {},
   "outputs": [],
   "source": [
    "# 📤 Save and show Participation Graph\n",
    "def build_participation_graph(df, radius=20):\n",
    "    coords = df[['X','Y']].values\n",
    "    dm = distance_matrix(coords, coords)\n",
    "    neighborhoods = [set(np.where(dm[i] <= radius)[0]) for i in range(len(coords))]\n",
    "    participation = np.zeros(len(coords), dtype=int)\n",
    "    for nb in neighborhoods:\n",
    "        for idx in nb:\n",
    "            participation[idx] += 1\n",
    "    df['participation'] = participation\n",
    "    G = nx.Graph()\n",
    "    for i, row in df.iterrows():\n",
    "        G.add_node(row.Cell_ID, pos=(row.X, row.Y), p=participation[i])\n",
    "    for i in range(len(coords)):\n",
    "        for j in range(i + 1, len(coords)):\n",
    "            if dm[i, j] <= radius:\n",
    "                G.add_edge(df.loc[i, 'Cell_ID'], df.loc[j, 'Cell_ID'])\n",
    "    return G, df\n",
    "    \n",
    "# Rebuild graph and df with participation info\n",
    "G, df = build_participation_graph(df, radius=20)\n",
    "\n",
    "# Plot Participation Graph\n",
    "plt.figure(figsize=(8, 6))\n",
    "pos = nx.get_node_attributes(G, 'pos')\n",
    "colors = [df[df['Cell_ID'] == n]['participation'].values[0] for n in G.nodes()]\n",
    "# Use scatter to create a proper colorbar\n",
    "x = [pos[n][0] for n in G.nodes()]\n",
    "y = [pos[n][1] for n in G.nodes()]\n",
    "scatter = plt.scatter(x, y, c=colors, cmap='coolwarm', s=60)\n",
    "nx.draw_networkx_edges(G, pos, edge_color='gray', alpha=0.5)\n",
    "plt.title(\"Cell-Level Participation Graph\")\n",
    "plt.colorbar(scatter, label=\"Participation Count\")\n",
    "plt.axis('equal')\n",
    "plt.savefig(\"cell_participation_graph.png\")\n",
    "plt.show()\n"
   ]
  },
  {
   "cell_type": "markdown",
   "id": "cab4ab39",
   "metadata": {},
   "source": [
    "## 🔹 Step 4: Barycentric Plots Relative to Neighborhoods\n",
    "\n",
    "_This plot uses triangulation of neighborhood centers. It gives a spatial overview of how cells are embedded relative to local structures._"
   ]
  },
  {
   "cell_type": "code",
   "execution_count": null,
   "id": "c1ea3652",
   "metadata": {},
   "outputs": [],
   "source": [
    "def plot_barycentric(df):\n",
    "    centers = df[df.neighborhood >= 0].groupby('neighborhood')[['X','Y']].mean().values\n",
    "    tri = mtri.Triangulation(centers[:,0], centers[:,1])\n",
    "    plt.figure(figsize=(6,6))\n",
    "    plt.triplot(tri, color='gray', alpha=0.5)\n",
    "    plt.scatter(df.X, df.Y, s=5, c='red', alpha=0.5)\n",
    "    plt.title('Barycentric Plot (Neighborhood-Based)')\n",
    "    plt.axis('equal')\n",
    "    plt.savefig(\"barycentric_plot.png\")\n",
    "    plt.show()\n",
    "\n",
    "plot_barycentric(df)"
   ]
  }
 ],
 "metadata": {
  "kernelspec": {
   "display_name": "Python 3 (ipykernel)",
   "language": "python",
   "name": "python3"
  },
  "language_info": {
   "codemirror_mode": {
    "name": "ipython",
    "version": 3
   },
   "file_extension": ".py",
   "mimetype": "text/x-python",
   "name": "python",
   "nbconvert_exporter": "python",
   "pygments_lexer": "ipython3",
   "version": "3.12.4"
  }
 },
 "nbformat": 4,
 "nbformat_minor": 5
}
