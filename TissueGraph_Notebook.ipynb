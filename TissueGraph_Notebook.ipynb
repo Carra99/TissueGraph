{
 "cells": [
  {
   "cell_type": "markdown",
   "metadata": {},
   "source": [
    "# 🧠 TissueGraph: Spatial Graphs for Tissue Microenvironments\n",
    "This notebook demonstrates the three core features of **TissueGraph**, a tool for analyzing spatial cell organization from multiplexed imaging data (e.g., MIBI, CODEX).\n",
    "\n",
    "**Features covered:**\n",
    "1. Super-node graph construction based on DBSCAN clustering\n",
    "2. Cell-level participation graphs\n",
    "3. Barycentric plots relative to spatial neighborhoods"
   ]
  },
  {
   "cell_type": "code",
   "execution_count": null,
   "metadata": {},
   "outputs": [],
   "source": [
    "# 📦 Imports\n",
    "import numpy as np\n",
    "import pandas as pd\n",
    "import networkx as nx\n",
    "import matplotlib.pyplot as plt\n",
    "from sklearn.cluster import DBSCAN\n",
    "from scipy.spatial import distance_matrix\n",
    "from skimage.io import imread\n",
    "from skimage.measure import regionprops\n",
    "from matplotlib import tri as mtri"
   ]
  },
  {
   "cell_type": "markdown",
   "metadata": {},
   "source": [
    "## 🔹 Step 1: Load Data\n",
    "You can load either a CSV file with cell coordinates or a segmentation mask."
   ]
  },
  {
   "cell_type": "code",
   "execution_count": null,
   "metadata": {},
   "outputs": [],
   "source": [
    "# Option 1: From segmentation mask\n",
    "def load_centroids_from_mask(mask_path):\n",
    "    mask = imread(mask_path)\n",
    "    props = regionprops(mask)\n",
    "    return pd.DataFrame([{\n",
    "        'Cell_ID': p.label,\n",
    "        'X': p.centroid[1],\n",
    "        'Y': p.centroid[0]\n",
    "    } for p in props])\n",
    "\n",
    "# Option 2: From CSV\n",
    "def load_centroids_from_csv(csv_path):\n",
    "    return pd.read_csv(csv_path)"
   ]
  },
  {
   "cell_type": "markdown",
   "metadata": {},
   "source": [
    "## 🔹 Step 2: Super-node Graph from Cell Neighborhoods"
   ]
  },
  {
   "cell_type": "code",
   "execution_count": null,
   "metadata": {},
   "outputs": [],
   "source": [
    "def build_supernode_graph(df, eps=30, min_samples=5):\n",
    "    coords = df[['X','Y']].values\n",
    "    clustering = DBSCAN(eps=eps, min_samples=min_samples).fit(coords)\n",
    "    df['neighborhood'] = clustering.labels_\n",
    "    centers = df[df.neighborhood >= 0].groupby('neighborhood')[['X','Y']].mean()\n",
    "    G = nx.Graph()\n",
    "    for nid, row in centers.iterrows():\n",
    "        G.add_node(nid, pos=(row.X, row.Y))\n",
    "    dm = distance_matrix(centers.values, centers.values)\n",
    "    for i, a in enumerate(centers.index):\n",
    "        for j, b in enumerate(centers.index):\n",
    "            if i < j and dm[i, j] < eps * 2:\n",
    "                G.add_edge(a, b)\n",
    "    return G, df"
   ]
  },
  {
   "cell_type": "markdown",
   "metadata": {},
   "source": [
    "## 🔹 Step 3: Participation Graph (Cell-Level)"
   ]
  },
  {
   "cell_type": "code",
   "execution_count": null,
   "metadata": {},
   "outputs": [],
   "source": [
    "def build_participation_graph(df, radius=20):\n",
    "    coords = df[['X','Y']].values\n",
    "    dm = distance_matrix(coords, coords)\n",
    "    neighborhoods = [set(np.where(dm[i] <= radius)[0]) for i in range(len(coords))]\n",
    "    participation = np.zeros(len(coords), dtype=int)\n",
    "    for nb in neighborhoods:\n",
    "        for idx in nb:\n",
    "            participation[idx] += 1\n",
    "    df['participation'] = participation\n",
    "    G = nx.Graph()\n",
    "    for i, row in df.iterrows():\n",
    "        G.add_node(row.Cell_ID, pos=(row.X, row.Y), p=participation[i])\n",
    "    for i in range(len(coords)):\n",
    "        for j in range(i + 1, len(coords)):\n",
    "            if dm[i, j] <= radius:\n",
    "                G.add_edge(df.loc[i, 'Cell_ID'], df.loc[j, 'Cell_ID'])\n",
    "    return G, df"
   ]
  },
  {
   "cell_type": "markdown",
   "metadata": {},
   "source": [
    "## 🔹 Step 4: Barycentric Plots Relative to Neighborhoods"
   ]
  },
  {
   "cell_type": "code",
   "execution_count": null,
   "metadata": {},
   "outputs": [],
   "source": [
    "def plot_barycentric(df):\n",
    "    centers = df[df.neighborhood >= 0].groupby('neighborhood')[['X','Y']].mean().values\n",
    "    tri = mtri.Triangulation(centers[:,0], centers[:,1])\n",
    "    plt.figure(figsize=(6,6))\n",
    "    plt.triplot(tri, color='gray', alpha=0.5)\n",
    "    plt.scatter(df.X, df.Y, s=5, c='red', alpha=0.5)\n",
    "    plt.title('Barycentric Plot (Neighborhood-Based)')\n",
    "    plt.axis('equal')\n",
    "    plt.show()"
   ]
  }
 ],
 "metadata": {
  "kernelspec": {
   "display_name": "Python 3",
   "language": "python",
   "name": "python3"
  },
  "language_info": {
   "name": "python"
  }
 },
 "nbformat": 4,
 "nbformat_minor": 5
}
